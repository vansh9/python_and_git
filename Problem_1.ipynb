{
 "cells": [
  {
   "cell_type": "markdown",
   "metadata": {},
   "source": [
    "# Problem 1 -\n",
    "***\n",
    "**Write a python script that - <img src=\"P1_formula.jpg\" width=\"240\" height=\"240\" align=\"right\"/>**  \n",
    "1. Says \"Hi\" to the user.   \n",
    "2. Asks the user for his/her **Name (string), age (integer), weight (float)(kgs) and height (integer)(kg)**.   \n",
    "3. Calculates the user's BMI. Formula can be found on the right.  \n",
    "4. Prints **(\"Thank you &lt;Name&gt;, for your input. Your BMI is &lt;Calculated value&gt;.\")**    \n",
    "5. Checks which category his/her BMI is in.     \n",
    "   *{Underweight (<18.0), Normal(18.0 - 24.99), Overweight(>25.0)}* and based on that -  \n",
    "   - suggests him/her to have dietary supplemets to increase weight,  \n",
    "   - congratulate him/her or  \n",
    "   - ask them to start exercising.  \n"
   ]
  },
  {
   "cell_type": "code",
   "execution_count": 10,
   "metadata": {},
   "outputs": [
    {
     "name": "stdout",
     "output_type": "stream",
     "text": [
      "Please input your Name =\tB\n",
      "Please input your Age =\t44\n",
      "Please input your Weight in ilogram =\t75\n",
      "Please input your Height in m =\t1.5\n",
      "Calculating your BMI\n",
      "Thanc you B , your BMI = 33.333333333333336 \n",
      "Please see a dietian coz you're gonna blow you fatso!\n"
     ]
    }
   ],
   "source": [
    "def BMI_calculator():\n",
    "    ## Write your function here\n",
    "    name= input(\"Please input your Name =\\t\")\n",
    "    age= float(input(\"Please input your Age =\\t\"))\n",
    "    wt= float(input(\"Please input your Weight in ilogram =\\t\"))\n",
    "    ht= float(input(\"Please input your Height in m =\\t\"))\n",
    "    print(\"Calculating your BMI\")\n",
    "    bmi = wt/(ht**2)\n",
    "    print(\"Thanc you {}, your BMI = {} \".format(name, bmi))\n",
    "    \n",
    "    if bmi<18.: print(\"suggests him/her to have dietary supplemets to increase weight\")\n",
    "    if bmi<24.99 and bmi>18: print(\"congratulations\")\n",
    "    else: print(\"Please see a dietian coz you're gonna blow you fatso!\")\n",
    "        \n",
    "    return(0)\n",
    "\n",
    "if __name__ =='__main__':\n",
    "    BMI_calculator()"
   ]
  },
  {
   "cell_type": "code",
   "execution_count": null,
   "metadata": {},
   "outputs": [],
   "source": []
  },
  {
   "cell_type": "code",
   "execution_count": null,
   "metadata": {},
   "outputs": [],
   "source": []
  },
  {
   "cell_type": "code",
   "execution_count": null,
   "metadata": {},
   "outputs": [],
   "source": []
  }
 ],
 "metadata": {
  "kernelspec": {
   "display_name": "Python 3",
   "language": "python",
   "name": "python3"
  },
  "language_info": {
   "codemirror_mode": {
    "name": "ipython",
    "version": 3
   },
   "file_extension": ".py",
   "mimetype": "text/x-python",
   "name": "python",
   "nbconvert_exporter": "python",
   "pygments_lexer": "ipython3",
   "version": "3.7.6"
  }
 },
 "nbformat": 4,
 "nbformat_minor": 4
}
