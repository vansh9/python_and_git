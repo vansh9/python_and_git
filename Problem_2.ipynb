{
 "cells": [
  {
   "cell_type": "code",
   "execution_count": 1,
   "metadata": {},
   "outputs": [],
   "source": [
    "# This problem requires the use of dictionaries.  \n",
    "# Given a string, calculate the number of times each character has appeared in it \n",
    "# and return the 3 most repeated characters in a list.  \n",
    "# eg. For the following input,\n",
    "#        'aabbccdddeeeeeffgggghhiiijjjj'\n",
    "# The output should be [e,g,j]    \n",
    "# As a second output, return the frequency of each of these characters.\n",
    "# For the above input, this would be\n",
    "# {'e': 5, 'g' : 4, 'j': 4}"
   ]
  },
  {
   "cell_type": "code",
   "execution_count": 4,
   "metadata": {},
   "outputs": [
    {
     "name": "stdout",
     "output_type": "stream",
     "text": [
      "Enter string here:aaaddffggtt\n",
      "11\n",
      "None None\n"
     ]
    }
   ],
   "source": [
    "def return_3_most_repeated():\n",
    "    ## Write your code here\n",
    "#     ip  = input(\"Enter string here:\")\n",
    "    ip = aaaddffggtt\n",
    "    len_ip = len(ip)\n",
    "    print(len_ip)\n",
    "    return(None, None)\n",
    "\n",
    "if __name__ == '__main__':\n",
    "    list_3_most_repeated, dictionary_3_most_repeated = return_3_most_repeated()\n",
    "    print(list_3_most_repeated, dictionary_3_most_repeated)"
   ]
  },
  {
   "cell_type": "code",
   "execution_count": null,
   "metadata": {},
   "outputs": [],
   "source": []
  }
 ],
 "metadata": {
  "kernelspec": {
   "display_name": "Python 3",
   "language": "python",
   "name": "python3"
  },
  "language_info": {
   "codemirror_mode": {
    "name": "ipython",
    "version": 3
   },
   "file_extension": ".py",
   "mimetype": "text/x-python",
   "name": "python",
   "nbconvert_exporter": "python",
   "pygments_lexer": "ipython3",
   "version": "3.7.6"
  }
 },
 "nbformat": 4,
 "nbformat_minor": 4
}
