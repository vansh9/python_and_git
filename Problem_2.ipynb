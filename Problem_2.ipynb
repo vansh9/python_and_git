{
 "cells": [
  {
   "cell_type": "code",
   "execution_count": 9,
   "metadata": {},
   "outputs": [],
   "source": [
    "# This problem requires the use of dictionaries.  \n",
    "# Given a string, calculate the number of times each character has appeared in it \n",
    "# and return the 3 most repeated characters in a list.  \n",
    "# eg. For the following input,\n",
    "#        'aabbccdddeeeeeffgggghhiiijjjj'\n",
    "# The output should be [e,g,j]    \n",
    "# As a second output, return the frequency of each of these characters.\n",
    "# For the above input, this would be\n",
    "# {'e': 5, 'g' : 4, 'j': 4}"
   ]
  },
  {
   "cell_type": "code",
   "execution_count": 10,
   "metadata": {},
   "outputs": [
    {
     "name": "stdout",
     "output_type": "stream",
     "text": [
      "Enter string here:aabbccdddeeeeeffgggghhiiijjjj\n",
      "['g', 'j', 'e'] {'g': 4, 'j': 4, 'e': 5}\n"
     ]
    }
   ],
   "source": [
    "def return_3_most_repeated():\n",
    "    ## Write your code here\n",
    "    ip  = (input(\"Enter string here:\"))\n",
    "    store={}\n",
    "#     ip = \"aaaddffggggggtt\"\n",
    "    len_ip = len(ip)\n",
    "#     print(len_ip)\n",
    "    \n",
    "    for i in range(len_ip):\n",
    "        selected = ip[i]\n",
    "#         counter=0\n",
    "        if selected not in store:\n",
    "            store[selected]=1\n",
    "        else: \n",
    "            store[selected] = store[selected]+1\n",
    "    \n",
    "#     print(store)\n",
    "    \n",
    "    dic = {k: v for k, v in sorted(store.items(), key=lambda item: item[1])}\n",
    "#     print(dic)\n",
    "#     print(list(dic.values()))\n",
    "    list_of_dic = list(dic.items())[-3:]\n",
    "    max_it = list(dic)[-3:]\n",
    "    val = list(dic.values())[-3:]\n",
    "#     tt = dic[-3:]\n",
    "#     print( max_it)\n",
    "#     print(val)\n",
    "    new_dic={}\n",
    "    for i in range(3):\n",
    "        new_dic[max_it[i]] = val[i]\n",
    "        \n",
    "    return(max_it, new_dic)\n",
    "\n",
    "if __name__ == '__main__':\n",
    "    list_3_most_repeated, dictionary_3_most_repeated = return_3_most_repeated()\n",
    "    print(list_3_most_repeated, dictionary_3_most_repeated)"
   ]
  },
  {
   "cell_type": "code",
   "execution_count": null,
   "metadata": {},
   "outputs": [],
   "source": []
  },
  {
   "cell_type": "code",
   "execution_count": null,
   "metadata": {},
   "outputs": [],
   "source": []
  },
  {
   "cell_type": "code",
   "execution_count": null,
   "metadata": {},
   "outputs": [],
   "source": []
  }
 ],
 "metadata": {
  "kernelspec": {
   "display_name": "Python 3",
   "language": "python",
   "name": "python3"
  },
  "language_info": {
   "codemirror_mode": {
    "name": "ipython",
    "version": 3
   },
   "file_extension": ".py",
   "mimetype": "text/x-python",
   "name": "python",
   "nbconvert_exporter": "python",
   "pygments_lexer": "ipython3",
   "version": "3.7.6"
  }
 },
 "nbformat": 4,
 "nbformat_minor": 4
}
